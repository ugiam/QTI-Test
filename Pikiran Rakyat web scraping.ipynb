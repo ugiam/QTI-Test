{
 "cells": [
  {
   "cell_type": "code",
   "execution_count": 1,
   "id": "3254a826",
   "metadata": {},
   "outputs": [],
   "source": [
    "from bs4 import BeautifulSoup\n",
    "import requests\n",
    "import csv, json\n",
    "\n",
    "csv_file = open('pikiran_rakyat.csv', 'w')\n",
    "csv_writer = csv.writer(csv_file)\n",
    "csv_writer.writerow(['Judul', 'Isi berita'])\n",
    "\n",
    "source = requests.get(\"https://www.pikiran-rakyat.com\").text\n",
    "soup = BeautifulSoup(source, 'lxml')\n",
    "\n",
    "for item in soup.find_all('div', class_='most__item'):\n",
    "  isi=''\n",
    "  judul = item.h2.text\n",
    "  link = requests.get(item.find('a', class_='most__link')['href']).text\n",
    "  page = BeautifulSoup(link, 'lxml')\n",
    "  article = page.find('article', class_='read__content clearfix')\n",
    "  par = article.find_all('p')\n",
    "  for i in par:\n",
    "    if 'Baca Juga:' not in i.text:\n",
    "      isi=isi+' '+i.text\n",
    "  \n",
    "  try:\n",
    "        next = requests.get(page.find('div', class_='paging__all').a['href']).text\n",
    "        page2 = BeautifulSoup(next, 'lxml')\n",
    "        article2 = page2.find('article', class_='read__content clearfix')\n",
    "        par = article2.find_all('p')\n",
    "        for i in par:\n",
    "          if 'Baca Juga:' not in i.text:\n",
    "              isi=isi+' '+i.text\n",
    "        csv_writer.writerow([judul, isi])\n",
    "  except Exception as e:\n",
    "        csv_writer.writerow([judul, isi])\n",
    "\n",
    "csv_file.close()"
   ]
  },
  {
   "cell_type": "code",
   "execution_count": 2,
   "id": "d6dda972",
   "metadata": {},
   "outputs": [],
   "source": [
    "data={}\n",
    "with open('pikiran_rakyat.csv') as csvfile:\n",
    "  csvreader = csv.DictReader(csvfile)\n",
    "  for rows in csvreader:\n",
    "    key=rows['Judul']\n",
    "    data[key]=rows['Isi berita']\n",
    "\n",
    "with open('pikiran_rakyat.json', 'w') as jsonfile:\n",
    "  jsonfile.write(json.dumps(data))"
   ]
  }
 ],
 "metadata": {
  "kernelspec": {
   "display_name": "Python 3",
   "language": "python",
   "name": "python3"
  },
  "language_info": {
   "codemirror_mode": {
    "name": "ipython",
    "version": 3
   },
   "file_extension": ".py",
   "mimetype": "text/x-python",
   "name": "python",
   "nbconvert_exporter": "python",
   "pygments_lexer": "ipython3",
   "version": "3.9.5"
  }
 },
 "nbformat": 4,
 "nbformat_minor": 5
}
